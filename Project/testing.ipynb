{
 "cells": [
  {
   "cell_type": "code",
   "execution_count": 1,
   "metadata": {},
   "outputs": [],
   "source": [
    "news_texts=\"HDFC Bank's stock has been experiencing negative returns in 2024, with a decline of 6.07% compared to a 3.54% rise for Nifty Bank during the same period. However, the bank's peers ICICI Bank and Axis Bank have seen gains of 10.45% and 7.5%, respectively. Despite this, HDFC Bank's stock has been on a recovery path since it announced its earnings for the quarter ended December 2023 in February 2024, with a 17.16% increase in stock price since then. The bank's market cap rose to Rs 12.14 lakh crore amid a broader market rally, and its total shares traded amounted to Rs 311.88 crore on BSE. Analysts have assigned a price target of Rs 2,000 to the stock with an add rating, citing the bank's leadership position in retail lending and potential for sustainable deposit growth. However, slow growth and weak margins are key downside risks to their thesis.\""
   ]
  },
  {
   "cell_type": "code",
   "execution_count": 2,
   "metadata": {},
   "outputs": [
    {
     "data": {
      "text/plain": [
       "{'neg': 0.067, 'neu': 0.824, 'pos': 0.108, 'compound': 0.6705}"
      ]
     },
     "execution_count": 2,
     "metadata": {},
     "output_type": "execute_result"
    }
   ],
   "source": [
    "from nltk.sentiment import SentimentIntensityAnalyzer\n",
    "from tqdm.notebook import tqdm\n",
    "sia=SentimentIntensityAnalyzer()\n",
    "sia.polarity_scores(news_texts)"
   ]
  },
  {
   "cell_type": "code",
   "execution_count": 3,
   "metadata": {},
   "outputs": [],
   "source": [
    "from transformers import AutoTokenizer\n",
    "from transformers import AutoModelForSequenceClassification\n",
    "from scipy.special import softmax"
   ]
  },
  {
   "cell_type": "code",
   "execution_count": 4,
   "metadata": {},
   "outputs": [
    {
     "name": "stderr",
     "output_type": "stream",
     "text": [
      "c:\\Users\\utkar\\Desktop\\DG_liger\\Project\\venv\\Lib\\site-packages\\huggingface_hub\\file_download.py:1132: FutureWarning: `resume_download` is deprecated and will be removed in version 1.0.0. Downloads always resume when possible. If you want to force a new download, use `force_download=True`.\n",
      "  warnings.warn(\n"
     ]
    }
   ],
   "source": [
    "model_name=\"cardiffnlp/twitter-roberta-base-sentiment\"\n",
    "tokenizer=AutoTokenizer.from_pretrained(model_name)\n",
    "model=AutoModelForSequenceClassification.from_pretrained(model_name)"
   ]
  },
  {
   "cell_type": "code",
   "execution_count": 5,
   "metadata": {},
   "outputs": [
    {
     "name": "stdout",
     "output_type": "stream",
     "text": [
      "[0.10690496 0.64939785 0.24369712]\n"
     ]
    }
   ],
   "source": [
    "encoded=tokenizer(news_texts,return_tensors='pt')\n",
    "output=model(**encoded)\n",
    "scores=output[0][0].detach().numpy()\n",
    "scores=softmax(scores)\n",
    "print(scores)\n"
   ]
  },
  {
   "cell_type": "code",
   "execution_count": 6,
   "metadata": {},
   "outputs": [
    {
     "name": "stdout",
     "output_type": "stream",
     "text": [
      "Compound score: 0.1367921605706215\n"
     ]
    }
   ],
   "source": [
    "weights = {\n",
    "    'neg': -1,\n",
    "    'neu': 0,\n",
    "    'pos': 1\n",
    "}\n",
    "probabilities = {\n",
    "    'neg': scores[0],\n",
    "    'neu': scores[1],\n",
    "    'pos': scores[2]\n",
    "}\n",
    "compound_score = sum(probabilities[label] * weights[label] for label in probabilities)\n",
    "print(f\"Compound score: {compound_score}\")"
   ]
  }
 ],
 "metadata": {
  "kernelspec": {
   "display_name": "Python 3",
   "language": "python",
   "name": "python3"
  },
  "language_info": {
   "codemirror_mode": {
    "name": "ipython",
    "version": 3
   },
   "file_extension": ".py",
   "mimetype": "text/x-python",
   "name": "python",
   "nbconvert_exporter": "python",
   "pygments_lexer": "ipython3",
   "version": "3.11.3"
  }
 },
 "nbformat": 4,
 "nbformat_minor": 2
}
