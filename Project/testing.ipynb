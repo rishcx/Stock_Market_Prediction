{
 "cells": [
  {
   "cell_type": "code",
   "execution_count": null,
   "metadata": {},
   "outputs": [],
   "source": []
  },
  {
   "cell_type": "code",
   "execution_count": null,
   "metadata": {},
   "outputs": [],
   "source": []
  },
  {
   "cell_type": "code",
   "execution_count": null,
   "metadata": {},
   "outputs": [],
   "source": []
  },
  {
   "cell_type": "code",
   "execution_count": 1,
   "metadata": {},
   "outputs": [],
   "source": [
    "from langchain.text_splitter import RecursiveCharacterTextSplitter"
   ]
  },
  {
   "cell_type": "code",
   "execution_count": null,
   "metadata": {},
   "outputs": [],
   "source": []
  },
  {
   "cell_type": "code",
   "execution_count": 2,
   "metadata": {},
   "outputs": [],
   "source": [
    "def to_chunks(data):\n",
    "    text_splitter=RecursiveCharacterTextSplitter(\n",
    "        chunk_size=3000,\n",
    "        chunk_overlap=50\n",
    "    )\n",
    "    docs=text_splitter.split_text(data)\n",
    "    return docs"
   ]
  },
  {
   "cell_type": "code",
   "execution_count": 3,
   "metadata": {},
   "outputs": [],
   "source": [
    "from transformers import AutoTokenizer, AutoModelForSeq2SeqLM\n"
   ]
  },
  {
   "cell_type": "code",
   "execution_count": 4,
   "metadata": {},
   "outputs": [],
   "source": [
    "def load_distilbert_model(model_name=\"sshleifer/distilbart-cnn-12-6\"):\n",
    "    tokenizer = AutoTokenizer.from_pretrained(model_name)\n",
    "    model = AutoModelForSeq2SeqLM.from_pretrained(model_name)\n",
    "    return tokenizer, model"
   ]
  },
  {
   "cell_type": "code",
   "execution_count": 5,
   "metadata": {},
   "outputs": [],
   "source": [
    "def summarize_text(tokenizer, model, text, max_chunk_length, summary_max_length):\n",
    "    inputs = tokenizer(text, return_tensors=\"pt\", max_length=max_chunk_length, truncation=True)\n",
    "    summary_ids = model.generate(inputs[\"input_ids\"], max_length=summary_max_length, min_length=200, length_penalty=2.0, num_beams=4, early_stopping=True)\n",
    "    summary = tokenizer.decode(summary_ids[0], skip_special_tokens=True)\n",
    "    return summary\n"
   ]
  },
  {
   "cell_type": "code",
   "execution_count": 6,
   "metadata": {},
   "outputs": [],
   "source": [
    "def summarize_article(article, model_name=\"sshleifer/distilbart-cnn-12-6\"):\n",
    "    data = article\n",
    "    chunks = to_chunks(data)\n",
    "    tokenizer, model = load_distilbert_model(model_name)\n",
    "    summaries = []\n",
    "    for chunk in chunks:\n",
    "        chunk_text = chunk\n",
    "        summary = summarize_text(tokenizer, model, chunk_text,3000,800)\n",
    "        summaries.append(summary)\n",
    "    concatenated_summaries = \" \".join(summaries)\n",
    "    #  Second summarization pass: Summarize the concatenated summaries\n",
    "    intermediate_chunks = [concatenated_summaries[i:i+3000] for i in range(0, len(concatenated_summaries), 3000)]\n",
    "    final_summaries = []\n",
    "    for intermediate_chunk in intermediate_chunks:\n",
    "        final_summary = summarize_text(tokenizer, model, intermediate_chunk,3000,800)\n",
    "        final_summaries.append(final_summary)\n",
    "    \n",
    "    final_summary_text = \" \".join(final_summaries)\n",
    "    \n",
    "    return final_summary_text"
   ]
  },
  {
   "cell_type": "code",
   "execution_count": null,
   "metadata": {},
   "outputs": [],
   "source": []
  },
  {
   "cell_type": "code",
   "execution_count": 7,
   "metadata": {},
   "outputs": [],
   "source": [
    "import requests\n",
    "from bs4 import BeautifulSoup\n"
   ]
  },
  {
   "cell_type": "code",
   "execution_count": 33,
   "metadata": {},
   "outputs": [],
   "source": [
    "url = \"https://www.hindustantimes.com/business/elon-musk-s-x-wants-laid-off-employees-to-give-money-back-they-were-overpaid-101718355497670.html\"\n",
    "headers = {\n",
    "    'User-Agent': 'Your User Agent String',\n",
    "}\n",
    "r = requests.get(url, headers=headers)\n",
    "\n",
    "soup=BeautifulSoup(r.text,'html.parser')\n",
    "paragraphs=soup.find_all('p')"
   ]
  },
  {
   "cell_type": "code",
   "execution_count": 34,
   "metadata": {},
   "outputs": [
    {
     "data": {
      "text/plain": [
       "[<p>Subscribe Now! Get features like</p>,\n",
       " <p>Elon Musk's company X (formerly Twitter) is asking at least six former Australian employees to repay the money which they have been accidentally given. The company is threatening legal action to recover these overpayments, Sydney Morning Herald reported. The issue come after an error in currency conversion from US dollars to Australian dollars. Emails from the company's Asia Pacific HR department show that overpayments occurred in January 2023, ranging from $1,500 to $70,000 per employee.</p>,\n",
       " <p>As per the report, these payments were part of a 'deferred cash compensation' tied to employee shares which were originally valued at $54.20 USD each which is the price Elon Musk paid when he acquired Twitter in 2022. None of the former employees have returned the money, the report claimed. The overpayments happened because Elon Musk's company used an incorrect conversion rate which was 2.5 times the actual value.</p>,\n",
       " <p>As per Australian law, overpayment mistakes need to be repaid although the employees can request detailed explanations and evidence of the error from the company. This comes as many former US-based employees of the company are still fighting to receive severance payments. </p>,\n",
       " <p>Four former Twitter executives, including ex-CEO Parag Agrawal and former CFO Ned Segal, have also sued X for over $128 million in unpaid severance. They were fired after Elon Musk's acquisition of Twitter.</p>,\n",
       " <p>Elevate your career with VIT’s MBA programme that has been designed by its acclaimed faculty &amp; stands out as a beacon for working professionals. <a href=\"https://www.hindustantimes.com/education/admissions/unlock-success-with-vellore-institute-of-technologys-affordable-mba-programme-101714976142782.html?utm_source=ht-internal&amp;utm_medium=end-of-article&amp;utm_campaign=emeritus\">Explore now!</a></p>,\n",
       " <p id=\"hidden-paragraph\" onclick=\"getEvent();\"> Get latest updates on<a href=\"https://www.hindustantimes.com/fuel-prices/petrol\"> Petrol Price</a> along with <a href=\"https://www.hindustantimes.com/gold-prices\">Gold Rate </a>, <a href=\"https://www.hindustantimes.com/weather\"> Today Weather</a> and <a href=\"https://www.hindustantimes.com/budget\">Budget 2024</a> at Hindustan Times. </p>,\n",
       " <p class=\"price\"></p>,\n",
       " <p class=\"date\"></p>]"
      ]
     },
     "execution_count": 34,
     "metadata": {},
     "output_type": "execute_result"
    }
   ],
   "source": [
    "paragraphs"
   ]
  },
  {
   "cell_type": "code",
   "execution_count": 10,
   "metadata": {},
   "outputs": [
    {
     "data": {
      "text/plain": [
       "'The social media platform, formerly known as Twitter, acknowledged its error in currency conversion from the US to Australian dollars on the payments and asked its former employees to repay amounts of up to $70,000 in some cases, the report said on Wednesday.\\xa0'"
      ]
     },
     "execution_count": 10,
     "metadata": {},
     "output_type": "execute_result"
    }
   ],
   "source": [
    "paragraphs[2].text"
   ]
  },
  {
   "cell_type": "code",
   "execution_count": 22,
   "metadata": {},
   "outputs": [],
   "source": [
    "text= [paragraph.text for paragraph in paragraphs]\n",
    "words=' '.join(text).split(' ')\n",
    "article = ' '.join(words)"
   ]
  },
  {
   "cell_type": "code",
   "execution_count": 23,
   "metadata": {},
   "outputs": [
    {
     "name": "stdout",
     "output_type": "stream",
     "text": [
      "File photo Billionaire Elon Musk's X has asked its sacked employees in Australia to return the money it claims was accidentally overpaid to them, the Sydney Morning Herald reported. The social media platform, formerly known as Twitter, acknowledged its error in currency conversion from the US to Australian dollars on the payments and asked its former employees to repay amounts of up to $70,000 in some cases, the report said on Wednesday.  The currency conversion errors made by X when employees were paid their entitlements after they were fired had reportedly led to overpayments of between $1,500 and $70,000. According to the report, at least six former X staff have received legal notices.  \"It has come to our attention that you received a significant overpayment in error in January 2023,\" the Sydney Morning Herald quoted X's Asia Pacific human resources department as saying, citing an email to several former employees this year. \"We would be grateful if you could arrange the repayment to us at your earliest convenience,\" it added. Elon Musk-led company also said that the overpayment was related to \"deferred cash compensation\" in the form of employee shares issued to the staff when they joined Twitter. PromotedListen to the latest songs, only on JioSaavn.com X has been accused in multiple suits of numerous labor and workplace violations, including failing to pay severance to thousands of workers fired after Musk's $44 billion acquisition in 2022. Earlier last year, thousands of former Twitter employees said they were cheated of severance pay when the billionaire laid them off after acquiring the social media platform. Track Latest News Live on NDTV.com and get news updates from India  and around the world.  Watch Live News: Follow Us: ................................ Advertisement ................................\n"
     ]
    }
   ],
   "source": [
    "print(article)"
   ]
  },
  {
   "cell_type": "code",
   "execution_count": 24,
   "metadata": {},
   "outputs": [],
   "source": [
    "summary = summarize_article(article)\n"
   ]
  },
  {
   "cell_type": "code",
   "execution_count": 14,
   "metadata": {},
   "outputs": [
    {
     "name": "stdout",
     "output_type": "stream",
     "text": [
      " The social media platform, formerly known as Twitter, acknowledged its error in currency conversion from the US to Australian dollars on the payments. X has been accused in multiple suits of numerous labor and workplace violations. Thousands of former Twitter employees said they were cheated of severance pay when the billionaire laid them off after acquiring the social media site. X also said that the overpayment was related to \"deferred cash compensation\" in the form of employee shares issued to the staff when they joined Twitter. At least six former X staff have received legal notices, according to the Sydney Morning Herald report, the report said. The billionaire's $44 billion acquisition of Twitter in 2022 is due to take place in 2022. Back to Mail Online home to go to the page you came from: http://www.dailymailonline.com/news/sundestribune/dailymail/dailydailymail/. Back to the original version of this article. Back to The Newsquiz.com: Please contact us on\n"
     ]
    }
   ],
   "source": [
    "print(summary)"
   ]
  },
  {
   "cell_type": "code",
   "execution_count": 52,
   "metadata": {},
   "outputs": [],
   "source": [
    "import os\n",
    "from dotenv import load_dotenv"
   ]
  },
  {
   "cell_type": "code",
   "execution_count": 56,
   "metadata": {},
   "outputs": [],
   "source": [
    "load_dotenv()\n",
    "api_key_news=os.getenv('NEWSAPI_ORG')\n"
   ]
  },
  {
   "cell_type": "code",
   "execution_count": 59,
   "metadata": {},
   "outputs": [],
   "source": [
    "# import requests\n",
    "\n",
    "# # Replace with your API key\n",
    "# api_key = api_key_news\n",
    "# base_url = 'https://newsapi.org/v2/everything'\n",
    "\n",
    "# # Example query parameters\n",
    "# params = {\n",
    "#     'q': 'apple',  # Example keyword (replace with your specific keyword)\n",
    "#     'domains': 'techcrunch.com,theverge.com',  # Domains related to technology\n",
    "#     'sortBy': 'publishedAt',  # Sort by published date\n",
    "#     'pageSize': 5,  # Number of results per page (max 100)\n",
    "#     'apiKey': api_key\n",
    "# }\n",
    "\n",
    "# response = requests.get(base_url, params=params)\n",
    "\n",
    "# if response.status_code == 200:\n",
    "#     data = response.json()\n",
    "#     articles = data['articles']\n",
    "#     if articles:\n",
    "#         for idx, article in enumerate(articles):\n",
    "#             print(f\"News {idx + 1}: {article['title']}\")\n",
    "#             print(f\"URL: {article['url']}\")\n",
    "#             print()  # Add a blank line for readability\n",
    "#     else:\n",
    "#         print(\"No articles found.\")\n",
    "# else:\n",
    "#     print(\"Error fetching data:\", response.status_code)\n"
   ]
  },
  {
   "cell_type": "code",
   "execution_count": 129,
   "metadata": {},
   "outputs": [],
   "source": [
    "from pygooglenews import GoogleNews"
   ]
  },
  {
   "cell_type": "code",
   "execution_count": 130,
   "metadata": {},
   "outputs": [],
   "source": [
    "gn = GoogleNews()\n",
    "search_results = gn.search('technology')\n"
   ]
  },
  {
   "cell_type": "code",
   "execution_count": 131,
   "metadata": {},
   "outputs": [],
   "source": [
    "urls = [entry['link'] for entry in search_results['entries'][:5]]"
   ]
  },
  {
   "cell_type": "code",
   "execution_count": 132,
   "metadata": {},
   "outputs": [
    {
     "name": "stdout",
     "output_type": "stream",
     "text": [
      "https://news.google.com/rss/articles/CBMiYmh0dHBzOi8vd3d3LnlhaG9vLmNvbS90ZWNoL3NjaWVudGlzdHMtc2lnbmlmaWNhbnQtYnJlYWt0aHJvdWdoLW1pY3JvY2hpcC10ZWNobm9sb2d5LTA5MDAwMDg0OC5odG1s0gEA?oc=5\n",
      "\n",
      "https://news.google.com/rss/articles/CBMijAFodHRwczovL3d3dy5lc3BuLmNvbS91bml0ZWQtZm9vdGJhbGwtbGVhZ3VlL3N0b3J5L18vaWQvNDAzMzAwNzgvdWZsLXRlY2hub2xvZ3ktaW5ub3ZhdGlvbnMtbmZsLWJhbGwtc3BvdHRpbmctaGVsbWV0LXRyYW5zbWl0dGVycy12aWRlby1pcGFkc9IBAA?oc=5\n",
      "\n",
      "https://news.google.com/rss/articles/CBMiemh0dHBzOi8vd3d3LmZvcmJlcy5jb20vc2l0ZXMvZGF2aWRiYWxhYmFuLzIwMjQvMDYvMTUvc2VjdXJpbmctZWR1Y2F0aW9uYWwtaW5zdGl0dXRpb25zLWluLXRoZS1lcmEtb2YtaW1tZXJzaXZlLXRlY2hub2xvZ3kv0gEA?oc=5\n",
      "\n",
      "https://news.google.com/rss/articles/CBMiT2h0dHBzOi8vbmV3cy5taXQuZWR1LzIwMjQvY3JlYXRpb24tc3RvcnktdG9sZC10aHJvdWdoLWltbWVyc2l2ZS10ZWNobm9sb2d5LTA2MTTSAQA?oc=5\n",
      "\n",
      "https://news.google.com/rss/articles/CBMiVmh0dHBzOi8vZm9ydHVuZS5jb20vMjAyNC8wNi8xMy9jbGltYXRlLXRlY2hub2xvZ3ktY29uc3VtZXIta2luZy1ldi1yZXRhaWwtZW52aXJvbm1lbnQv0gEA?oc=5\n",
      "\n"
     ]
    }
   ],
   "source": [
    "for url in urls:\n",
    "    print(url)\n",
    "    print()"
   ]
  },
  {
   "cell_type": "code",
   "execution_count": 197,
   "metadata": {},
   "outputs": [],
   "source": [
    "import requests\n",
    "from bs4 import BeautifulSoup\n",
    "import time\n",
    "\n",
    "def scraping_article(url):\n",
    "    headers = {\n",
    "        'User-Agent': 'Your User Agent String',\n",
    "    }\n",
    "    \n",
    "    # Perform the initial request without allowing redirects\n",
    "    r = requests.get(url, headers=headers, allow_redirects=False)\n",
    "    \n",
    "    # Check if there was a redirection\n",
    "    if r.status_code == 302:  # Status code 302 indicates a redirection\n",
    "        redirected_url = r.headers['Location']\n",
    "        print(f\"Redirected to: {redirected_url}\")\n",
    "        \n",
    "        # Now fetch the redirected URL\n",
    "        r = requests.get(redirected_url, headers=headers)\n",
    "    else:\n",
    "        redirected_url = url  # No redirection, use the original URL\n",
    "    \n",
    "    # Delay to ensure the page is fully loaded (adjust as needed)\n",
    "    time.sleep(5)\n",
    "    \n",
    "    soup = BeautifulSoup(r.text, 'html.parser')\n",
    "    paragraphs = soup.find_all('p')\n",
    "    text = [paragraph.text for paragraph in paragraphs]\n",
    "    article = ' '.join(text)\n",
    "    \n",
    "    return article, redirected_url\n"
   ]
  },
  {
   "cell_type": "code",
   "execution_count": 171,
   "metadata": {},
   "outputs": [],
   "source": [
    "def find_url(keyword):    \n",
    "    gn = GoogleNews(country='IN')\n",
    "    search_results = gn.search(keyword)\n",
    "    urls = [entry['link'] for entry in search_results['entries'][:5]]\n",
    "    return urls[0]"
   ]
  },
  {
   "cell_type": "code",
   "execution_count": 207,
   "metadata": {},
   "outputs": [
    {
     "name": "stdout",
     "output_type": "stream",
     "text": [
      "['https://removed.com', 'https://removed.com', 'https://consent.yahoo.com/v2/collectConsent?sessionId=1_cc-session_8823786c-90f4-4b30-8198-1d295ab9a66c', 'https://removed.com', 'https://removed.com']\n"
     ]
    }
   ],
   "source": [
    "from newsapi import NewsApiClient\n",
    "\n",
    "def find_news_urls(keyword):\n",
    "    # Initialize News API client with your API key\n",
    "    newsapi = NewsApiClient(api_key='e2fbdb35e6ac4796ab195b29fd82bd93')\n",
    "\n",
    "    # Search for news articles based on keyword\n",
    "    try:\n",
    "        # Specify the language and sources if needed\n",
    "        articles = newsapi.get_everything(q=keyword, language='en', page_size=5)\n",
    "\n",
    "        # Extract URLs from the articles\n",
    "        urls = [article['url'] for article in articles['articles']]\n",
    "        return urls\n",
    "\n",
    "    except Exception as e:\n",
    "        print(f\"Error fetching news articles: {e}\")\n",
    "        return []\n",
    "\n",
    "# Example usage:\n",
    "keyword = 'apple'\n",
    "urls = find_news_urls(keyword)\n",
    "print(urls)\n"
   ]
  },
  {
   "cell_type": "code",
   "execution_count": 204,
   "metadata": {},
   "outputs": [
    {
     "name": "stdout",
     "output_type": "stream",
     "text": [
      "['https://www.apple.com/in/', 'https://www.apple.com/in/', 'https://www.instagram.com/apple/?hl=en', 'https://www.icloud.com/', 'https://www.icloud.com/']\n"
     ]
    }
   ],
   "source": [
    "url=find_urls('apple')\n",
    "print(url)"
   ]
  },
  {
   "cell_type": "code",
   "execution_count": 198,
   "metadata": {},
   "outputs": [
    {
     "ename": "NoSuchDriverException",
     "evalue": "Message: Unable to obtain driver for chrome; For documentation on this error, please visit: https://www.selenium.dev/documentation/webdriver/troubleshooting/errors/driver_location\n",
     "output_type": "error",
     "traceback": [
      "\u001b[1;31m---------------------------------------------------------------------------\u001b[0m",
      "\u001b[1;31mValueError\u001b[0m                                Traceback (most recent call last)",
      "File \u001b[1;32mc:\\Users\\utkar\\Desktop\\DG_liger\\Project\\venv\\Lib\\site-packages\\selenium\\webdriver\\common\\driver_finder.py:64\u001b[0m, in \u001b[0;36mDriverFinder._binary_paths\u001b[1;34m(self)\u001b[0m\n\u001b[0;32m     63\u001b[0m \u001b[38;5;28;01mif\u001b[39;00m \u001b[38;5;129;01mnot\u001b[39;00m Path(path)\u001b[38;5;241m.\u001b[39mis_file():\n\u001b[1;32m---> 64\u001b[0m     \u001b[38;5;28;01mraise\u001b[39;00m \u001b[38;5;167;01mValueError\u001b[39;00m(\u001b[38;5;124mf\u001b[39m\u001b[38;5;124m\"\u001b[39m\u001b[38;5;124mThe path is not a valid file: \u001b[39m\u001b[38;5;132;01m{\u001b[39;00mpath\u001b[38;5;132;01m}\u001b[39;00m\u001b[38;5;124m\"\u001b[39m)\n\u001b[0;32m     65\u001b[0m \u001b[38;5;28mself\u001b[39m\u001b[38;5;241m.\u001b[39m_paths[\u001b[38;5;124m\"\u001b[39m\u001b[38;5;124mdriver_path\u001b[39m\u001b[38;5;124m\"\u001b[39m] \u001b[38;5;241m=\u001b[39m path\n",
      "\u001b[1;31mValueError\u001b[0m: The path is not a valid file: path",
      "\nThe above exception was the direct cause of the following exception:\n",
      "\u001b[1;31mNoSuchDriverException\u001b[0m                     Traceback (most recent call last)",
      "Cell \u001b[1;32mIn[198], line 1\u001b[0m\n\u001b[1;32m----> 1\u001b[0m a,b\u001b[38;5;241m=\u001b[39m\u001b[43mscraping_article\u001b[49m\u001b[43m(\u001b[49m\u001b[38;5;124;43m\"\u001b[39;49m\u001b[38;5;124;43mhttps://news.google.com/rss/articles/CBMidWh0dHBzOi8vaW5kaWFuZXhwcmVzcy5jb20vYXJ0aWNsZS90ZWNobm9sb2d5L2FydGlmaWNpYWwtaW50ZWxsaWdlbmNlL2FwcGxlLWFpLXd3ZGMtYXBwbGUtaW50ZWxsaWdlbmNlLWdlbi1haS05MzkxMTYzL9IBemh0dHBzOi8vaW5kaWFuZXhwcmVzcy5jb20vYXJ0aWNsZS90ZWNobm9sb2d5L2FydGlmaWNpYWwtaW50ZWxsaWdlbmNlL2FwcGxlLWFpLXd3ZGMtYXBwbGUtaW50ZWxsaWdlbmNlLWdlbi1haS05MzkxMTYzL2xpdGUv?oc=5\u001b[39;49m\u001b[38;5;124;43m\"\u001b[39;49m\u001b[43m)\u001b[49m\n",
      "Cell \u001b[1;32mIn[197], line 13\u001b[0m, in \u001b[0;36mscraping_article\u001b[1;34m(url)\u001b[0m\n\u001b[0;32m     11\u001b[0m options \u001b[38;5;241m=\u001b[39m Options()\n\u001b[0;32m     12\u001b[0m options\u001b[38;5;241m.\u001b[39madd_argument(\u001b[38;5;124m\"\u001b[39m\u001b[38;5;124m--headless\u001b[39m\u001b[38;5;124m\"\u001b[39m)  \u001b[38;5;66;03m# Run Chrome in headless mode\u001b[39;00m\n\u001b[1;32m---> 13\u001b[0m driver \u001b[38;5;241m=\u001b[39m \u001b[43mwebdriver\u001b[49m\u001b[38;5;241;43m.\u001b[39;49m\u001b[43mChrome\u001b[49m\u001b[43m(\u001b[49m\u001b[43mservice\u001b[49m\u001b[38;5;241;43m=\u001b[39;49m\u001b[43mService\u001b[49m\u001b[43m(\u001b[49m\u001b[38;5;124;43m\"\u001b[39;49m\u001b[38;5;124;43mpath\u001b[39;49m\u001b[38;5;124;43m\"\u001b[39;49m\u001b[43m)\u001b[49m\u001b[43m,\u001b[49m\u001b[43m \u001b[49m\u001b[43moptions\u001b[49m\u001b[38;5;241;43m=\u001b[39;49m\u001b[43moptions\u001b[49m\u001b[43m)\u001b[49m\n\u001b[0;32m     15\u001b[0m driver\u001b[38;5;241m.\u001b[39mget(url)\n\u001b[0;32m     17\u001b[0m \u001b[38;5;66;03m# Wait for 5 seconds to allow the page to fully load\u001b[39;00m\n",
      "File \u001b[1;32mc:\\Users\\utkar\\Desktop\\DG_liger\\Project\\venv\\Lib\\site-packages\\selenium\\webdriver\\chrome\\webdriver.py:45\u001b[0m, in \u001b[0;36mWebDriver.__init__\u001b[1;34m(self, options, service, keep_alive)\u001b[0m\n\u001b[0;32m     42\u001b[0m service \u001b[38;5;241m=\u001b[39m service \u001b[38;5;28;01mif\u001b[39;00m service \u001b[38;5;28;01melse\u001b[39;00m Service()\n\u001b[0;32m     43\u001b[0m options \u001b[38;5;241m=\u001b[39m options \u001b[38;5;28;01mif\u001b[39;00m options \u001b[38;5;28;01melse\u001b[39;00m Options()\n\u001b[1;32m---> 45\u001b[0m \u001b[38;5;28;43msuper\u001b[39;49m\u001b[43m(\u001b[49m\u001b[43m)\u001b[49m\u001b[38;5;241;43m.\u001b[39;49m\u001b[38;5;21;43m__init__\u001b[39;49m\u001b[43m(\u001b[49m\n\u001b[0;32m     46\u001b[0m \u001b[43m    \u001b[49m\u001b[43mbrowser_name\u001b[49m\u001b[38;5;241;43m=\u001b[39;49m\u001b[43mDesiredCapabilities\u001b[49m\u001b[38;5;241;43m.\u001b[39;49m\u001b[43mCHROME\u001b[49m\u001b[43m[\u001b[49m\u001b[38;5;124;43m\"\u001b[39;49m\u001b[38;5;124;43mbrowserName\u001b[39;49m\u001b[38;5;124;43m\"\u001b[39;49m\u001b[43m]\u001b[49m\u001b[43m,\u001b[49m\n\u001b[0;32m     47\u001b[0m \u001b[43m    \u001b[49m\u001b[43mvendor_prefix\u001b[49m\u001b[38;5;241;43m=\u001b[39;49m\u001b[38;5;124;43m\"\u001b[39;49m\u001b[38;5;124;43mgoog\u001b[39;49m\u001b[38;5;124;43m\"\u001b[39;49m\u001b[43m,\u001b[49m\n\u001b[0;32m     48\u001b[0m \u001b[43m    \u001b[49m\u001b[43moptions\u001b[49m\u001b[38;5;241;43m=\u001b[39;49m\u001b[43moptions\u001b[49m\u001b[43m,\u001b[49m\n\u001b[0;32m     49\u001b[0m \u001b[43m    \u001b[49m\u001b[43mservice\u001b[49m\u001b[38;5;241;43m=\u001b[39;49m\u001b[43mservice\u001b[49m\u001b[43m,\u001b[49m\n\u001b[0;32m     50\u001b[0m \u001b[43m    \u001b[49m\u001b[43mkeep_alive\u001b[49m\u001b[38;5;241;43m=\u001b[39;49m\u001b[43mkeep_alive\u001b[49m\u001b[43m,\u001b[49m\n\u001b[0;32m     51\u001b[0m \u001b[43m\u001b[49m\u001b[43m)\u001b[49m\n",
      "File \u001b[1;32mc:\\Users\\utkar\\Desktop\\DG_liger\\Project\\venv\\Lib\\site-packages\\selenium\\webdriver\\chromium\\webdriver.py:50\u001b[0m, in \u001b[0;36mChromiumDriver.__init__\u001b[1;34m(self, browser_name, vendor_prefix, options, service, keep_alive)\u001b[0m\n\u001b[0;32m     47\u001b[0m \u001b[38;5;28mself\u001b[39m\u001b[38;5;241m.\u001b[39mservice \u001b[38;5;241m=\u001b[39m service\n\u001b[0;32m     49\u001b[0m finder \u001b[38;5;241m=\u001b[39m DriverFinder(\u001b[38;5;28mself\u001b[39m\u001b[38;5;241m.\u001b[39mservice, options)\n\u001b[1;32m---> 50\u001b[0m \u001b[38;5;28;01mif\u001b[39;00m \u001b[43mfinder\u001b[49m\u001b[38;5;241;43m.\u001b[39;49m\u001b[43mget_browser_path\u001b[49m\u001b[43m(\u001b[49m\u001b[43m)\u001b[49m:\n\u001b[0;32m     51\u001b[0m     options\u001b[38;5;241m.\u001b[39mbinary_location \u001b[38;5;241m=\u001b[39m finder\u001b[38;5;241m.\u001b[39mget_browser_path()\n\u001b[0;32m     52\u001b[0m     options\u001b[38;5;241m.\u001b[39mbrowser_version \u001b[38;5;241m=\u001b[39m \u001b[38;5;28;01mNone\u001b[39;00m\n",
      "File \u001b[1;32mc:\\Users\\utkar\\Desktop\\DG_liger\\Project\\venv\\Lib\\site-packages\\selenium\\webdriver\\common\\driver_finder.py:47\u001b[0m, in \u001b[0;36mDriverFinder.get_browser_path\u001b[1;34m(self)\u001b[0m\n\u001b[0;32m     46\u001b[0m \u001b[38;5;28;01mdef\u001b[39;00m \u001b[38;5;21mget_browser_path\u001b[39m(\u001b[38;5;28mself\u001b[39m) \u001b[38;5;241m-\u001b[39m\u001b[38;5;241m>\u001b[39m \u001b[38;5;28mstr\u001b[39m:\n\u001b[1;32m---> 47\u001b[0m     \u001b[38;5;28;01mreturn\u001b[39;00m \u001b[38;5;28;43mself\u001b[39;49m\u001b[38;5;241;43m.\u001b[39;49m\u001b[43m_binary_paths\u001b[49m\u001b[43m(\u001b[49m\u001b[43m)\u001b[49m[\u001b[38;5;124m\"\u001b[39m\u001b[38;5;124mbrowser_path\u001b[39m\u001b[38;5;124m\"\u001b[39m]\n",
      "File \u001b[1;32mc:\\Users\\utkar\\Desktop\\DG_liger\\Project\\venv\\Lib\\site-packages\\selenium\\webdriver\\common\\driver_finder.py:78\u001b[0m, in \u001b[0;36mDriverFinder._binary_paths\u001b[1;34m(self)\u001b[0m\n\u001b[0;32m     76\u001b[0m \u001b[38;5;28;01mexcept\u001b[39;00m \u001b[38;5;167;01mException\u001b[39;00m \u001b[38;5;28;01mas\u001b[39;00m err:\n\u001b[0;32m     77\u001b[0m     msg \u001b[38;5;241m=\u001b[39m \u001b[38;5;124mf\u001b[39m\u001b[38;5;124m\"\u001b[39m\u001b[38;5;124mUnable to obtain driver for \u001b[39m\u001b[38;5;132;01m{\u001b[39;00mbrowser\u001b[38;5;132;01m}\u001b[39;00m\u001b[38;5;124m\"\u001b[39m\n\u001b[1;32m---> 78\u001b[0m     \u001b[38;5;28;01mraise\u001b[39;00m NoSuchDriverException(msg) \u001b[38;5;28;01mfrom\u001b[39;00m \u001b[38;5;21;01merr\u001b[39;00m\n\u001b[0;32m     79\u001b[0m \u001b[38;5;28;01mreturn\u001b[39;00m \u001b[38;5;28mself\u001b[39m\u001b[38;5;241m.\u001b[39m_paths\n",
      "\u001b[1;31mNoSuchDriverException\u001b[0m: Message: Unable to obtain driver for chrome; For documentation on this error, please visit: https://www.selenium.dev/documentation/webdriver/troubleshooting/errors/driver_location\n"
     ]
    }
   ],
   "source": [
    "a,b=scraping_article(\"https://news.google.com/rss/articles/CBMidWh0dHBzOi8vaW5kaWFuZXhwcmVzcy5jb20vYXJ0aWNsZS90ZWNobm9sb2d5L2FydGlmaWNpYWwtaW50ZWxsaWdlbmNlL2FwcGxlLWFpLXd3ZGMtYXBwbGUtaW50ZWxsaWdlbmNlLWdlbi1haS05MzkxMTYzL9IBemh0dHBzOi8vaW5kaWFuZXhwcmVzcy5jb20vYXJ0aWNsZS90ZWNobm9sb2d5L2FydGlmaWNpYWwtaW50ZWxsaWdlbmNlL2FwcGxlLWFpLXd3ZGMtYXBwbGUtaW50ZWxsaWdlbmNlLWdlbi1haS05MzkxMTYzL2xpdGUv?oc=5\")"
   ]
  },
  {
   "cell_type": "code",
   "execution_count": 196,
   "metadata": {},
   "outputs": [
    {
     "name": "stdout",
     "output_type": "stream",
     "text": [
      "\n"
     ]
    }
   ],
   "source": [
    "print(a)"
   ]
  },
  {
   "cell_type": "code",
   "execution_count": 208,
   "metadata": {},
   "outputs": [],
   "source": [
    "from bs4 import BeautifulSoup\n",
    "import requests\n",
    "from urllib.request import Request,urlopen"
   ]
  },
  {
   "cell_type": "code",
   "execution_count": 210,
   "metadata": {},
   "outputs": [],
   "source": [
    "    root=\"https://www.google.com/\"\n",
    "\n",
    "    link=\"https://www.google.com/search?q=elon+musk&sca_esv=98cf8f6fdb8bd6f4&biw=1280&bih=551&tbm=nws&sxsrf=ADLYWIIZRUl5d0YuJvdGYn_GeaiCwyf2LA:1718530241064&story=GkEIpQEaGgoTc3RvcnlfbGFiZWxfcGFydGlhbBIDRVZNGiAKE3N0b3J5X2xhYmVsX3BhcnRpYWwSCUVsb24gTXVzazIuCiSI8oTgz4WLj1Owp6yThJCO7QSLjPP_wJTe9WiO1Nn76oSX1gMQt6eg6QsYBXICEAI&fcs=ACgqzedYp_suCJzWAjo7rGmw3tYrNkRaug&sa=X&ved=2ahUKEwjXqreE6N-GAxUUTGwGHRZMDCUQ7IUHegQIKhAF\""
   ]
  },
  {
   "cell_type": "code",
   "execution_count": 211,
   "metadata": {},
   "outputs": [],
   "source": [
    "req = Request(link, headers={'User-Agent':'Mozilla/5.0'})\n",
    "webpage= urlopen(req).read()"
   ]
  },
  {
   "cell_type": "code",
   "execution_count": 242,
   "metadata": {},
   "outputs": [
    {
     "name": "stdout",
     "output_type": "stream",
     "text": [
      "/search?q=elon+musk&sca_esv=98cf8f6fdb8bd6f4&biw=1280&bih=551&tbm=nws&story=GkEIpQEaGgoTc3RvcnlfbGFiZWxfcGFydGlhbBIDRVZNGiAKE3N0b3J5X2xhYmVsX3BhcnRpYWwSCUVsb24gTXVzazIuCiSI8oTgz4WLj1Owp6yThJCO7QSLjPP_wJTe9WiO1Nn76oSX1gMQt6eg6QsYBXICEAI&fcs=ACgqzedYp_suCJzWAjo7rGmw3tYrNkRaug&source=lnt&tbs=qdr:h&sa=X&ved=0ahUKEwiWzcfF6N-GAxUVr5UCHS0UDswQpwUIDQ\n",
      "/url?q=https://www.indiatoday.in/india/story/elon-musk-evm-rajeev-chandrasekhar-bjp-congress-rahul-gandhi-controversy-2553867-2024-06-16&sa=U&ved=2ahUKEwiWzcfF6N-GAxUVr5UCHS0UDswQxfQBegQICBAC&usg=AOvVaw3NDIjptDHIMrua_dgw1V3I\n",
      "/url?q=https://www.ndtv.com/world-news/we-should-eliminate-evms-elon-musk-flags-risk-of-poll-rigging-5900100&sa=U&ved=2ahUKEwiWzcfF6N-GAxUVr5UCHS0UDswQxfQBegQICRAC&usg=AOvVaw2nXGLwuAD0SA3Sg-0IZZ6K\n",
      "/url?q=https://www.thehindu.com/sci-tech/technology/rajeev-chandrasekhar-counters-elon-musks-evm-tampering-remark-calls-it-a-sweeping-generalisation/article68296179.ece&sa=U&ved=2ahUKEwiWzcfF6N-GAxUVr5UCHS0UDswQxfQBegQIBxAC&usg=AOvVaw3iIleoMJHxAKcE-ITqieVp\n",
      "/url?q=https://www.news18.com/world/elon-musk-calls-for-eliminating-evms-8933816.html&sa=U&ved=2ahUKEwiWzcfF6N-GAxUVr5UCHS0UDswQxfQBegQIBRAC&usg=AOvVaw27UTFTQuwkx9VZMPZZGSD1\n",
      "/url?q=https://indianexpress.com/article/world/elon-musk-evms-united-states-president-elections-9395385/&sa=U&ved=2ahUKEwiWzcfF6N-GAxUVr5UCHS0UDswQxfQBegQIBBAC&usg=AOvVaw0dZOwvj_mq8L-Q8h13Da9G\n",
      "/url?q=https://www.businesstoday.in/world/us/story/we-should-eliminate-evms-elon-musk-voices-concern-over-potential-hacking-risks-433453-2024-06-16&sa=U&ved=2ahUKEwiWzcfF6N-GAxUVr5UCHS0UDswQxfQBegQIAxAC&usg=AOvVaw1CYFNjFpRlosfz2zlLW8eV\n",
      "/url?q=https://www.livemint.com/news/india/elon-musks-anything-can-be-hacked-vs-rajeev-chandrasekhars-technically-you-are-right-on-use-of-evms-11718523721133.html&sa=U&ved=2ahUKEwiWzcfF6N-GAxUVr5UCHS0UDswQxfQBegQIABAC&usg=AOvVaw1k2LPY0vx0dtxuqv3GOl6K\n",
      "/url?q=https://www.indiatvnews.com/news/india/evms-in-india-are-a-black-box-rahul-gandhi-joins-elon-musk-to-criticise-electronic-voting-machines-rajeev-chandrashekhar-2024-06-16-937194&sa=U&ved=2ahUKEwiWzcfF6N-GAxUVr5UCHS0UDswQxfQBegQIAhAC&usg=AOvVaw3BOXPhYqveXw4sGDqOJLde\n",
      "/url?q=https://www.timesnownews.com/world/why-elon-musk-called-for-elimination-of-electronic-voting-machines-article-111032600&sa=U&ved=2ahUKEwiWzcfF6N-GAxUVr5UCHS0UDswQxfQBegQIARAC&usg=AOvVaw1ILjULgbEY_IaQaNMZFkld\n",
      "/url?q=https://www.newindianexpress.com/nation/2024/Jun/16/musk-for-eliminating-evms-rajeev-chandrasekhar-disagrees&sa=U&ved=2ahUKEwiWzcfF6N-GAxUVr5UCHS0UDswQxfQBegQIBhAC&usg=AOvVaw1OmKkdga3i8onpedHbCV14\n",
      "/search?q=elon+musk&sca_esv=98cf8f6fdb8bd6f4&biw=1280&bih=551&tbm=nws&ei=SbFuZtaEJ5Xe1sQPrai44Aw&start=10&sa=N&story=GkEIpQEaGgoTc3RvcnlfbGFiZWxfcGFydGlhbBIDRVZNGiAKE3N0b3J5X2xhYmVsX3BhcnRpYWwSCUVsb24gTXVzazIuCiSI8oTgz4WLj1Owp6yThJCO7QSLjPP_wJTe9WiO1Nn76oSX1gMQt6eg6QsYBXICEAI&fcs=ACgqzedYp_suCJzWAjo7rGmw3tYrNkRaug\n"
     ]
    }
   ],
   "source": [
    "with requests.Session() as c:\n",
    "    soup=BeautifulSoup(webpage,'html5lib')\n",
    "    # print(soup)tHmfQe\n",
    "    for items in soup.find_all('div',attrs={'class':'Gx5Zad'}):\n",
    "        a_tag = items.find('a')\n",
    "        if a_tag:\n",
    "            # Extract the value of the 'href' attribute\n",
    "            link = a_tag.get('href')\n",
    "            print(link)        \n",
    "        # print(items)"
   ]
  },
  {
   "cell_type": "code",
   "execution_count": 246,
   "metadata": {},
   "outputs": [
    {
     "name": "stdout",
     "output_type": "stream",
     "text": [
      "List of extracted links:\n",
      "['https://www.thehindu.com/news/international/g7-summit-2024-highlights-of-pm-modis-meetings-with-world-leaders-watch-video/article68292605.ece', 'https://www.livemint.com/politics/news/thank-you-prime-minister-sharad-pawar-credits-pm-modi-for-lok-sabha-election-2024-outcome-in-maharashtra-heres-why-11718443807338.html', 'https://indianexpress.com/article/opinion/columns/inside-track-modified-modi-3-0-9395030/', 'https://timesofindia.indiatimes.com/india/palestine-pm-writes-to-pm-modi-seeks-india-help-for-gaza-truce/articleshow/111026952.cms', 'https://www.india.com/business/pm-modi-to-flag-off-chennai-nagercoil-bengaluru-madurai-vande-bharat-express-check-route-timetable-7018009/', 'https://m.economictimes.com/news/india/modi-seizes-center-stage-at-g-7-to-ambush-biden-trudeau/articleshow/111030821.cms', 'https://www.ndtv.com/india-news/asked-about-inviting-pm-modi-to-g7-next-year-justin-trudeau-said-this-5901546', 'https://www.wionews.com/entertainment/kangana-ranaut-gushes-over-pm-narendra-modi-and-italian-pm-giorgia-melonis-viral-melodi-video-732065', 'https://www.eurasiantimes.com/turkey-beats-india-china-pips-usa/', 'https://www.economist.com/business/2024/06/13/what-indian-business-expects-from-modi-30']\n"
     ]
    }
   ],
   "source": [
    "from bs4 import BeautifulSoup\n",
    "import requests\n",
    "\n",
    "root = \"https://www.google.com/\"\n",
    "search_query = \"modi\"\n",
    "link = f\"https://www.google.com/search?q={search_query}&tbm=nws\"\n",
    "\n",
    "# Send request with headers to mimic a browser\n",
    "headers = {'User-Agent': 'Mozilla/5.0'}\n",
    "response = requests.get(link, headers=headers)\n",
    "webpage = response.content\n",
    "\n",
    "# Parse the HTML content with BeautifulSoup\n",
    "soup = BeautifulSoup(webpage, 'html5lib')\n",
    "\n",
    "# Initialize an empty list to store the links\n",
    "links = []\n",
    "\n",
    "# Find all div elements with class 'Gx5Zad'\n",
    "for div_tag in soup.find_all('div', class_='Gx5Zad'):\n",
    "    # Find the <a> tag inside each div\n",
    "    a_tag = div_tag.find('a')\n",
    "    if a_tag:\n",
    "        # Extract the actual URL from the 'href' attribute\n",
    "        if 'href' in a_tag.attrs:\n",
    "            href = a_tag['href']\n",
    "            # Extract the actual URL from the Google redirect URL\n",
    "            if href.startswith('/url?q='):\n",
    "                url = href.split('/url?q=')[1].split('&sa=')[0]\n",
    "                links.append(url)\n",
    "\n",
    "# Now 'links' contains all the extracted URLs in list format\n",
    "print(\"List of extracted links:\")\n",
    "print(links)\n"
   ]
  },
  {
   "cell_type": "code",
   "execution_count": 253,
   "metadata": {},
   "outputs": [],
   "source": [
    "a=\"elon musk\"\n",
    "a = \"elon musk\"\n",
    "a = a.replace(\" \", \"+\")"
   ]
  },
  {
   "cell_type": "code",
   "execution_count": 254,
   "metadata": {},
   "outputs": [
    {
     "data": {
      "text/plain": [
       "'elon+musk'"
      ]
     },
     "execution_count": 254,
     "metadata": {},
     "output_type": "execute_result"
    }
   ],
   "source": [
    "a"
   ]
  },
  {
   "cell_type": "code",
   "execution_count": 257,
   "metadata": {},
   "outputs": [],
   "source": [
    "def scraping_article(url):\n",
    "    headers = {\n",
    "    'User-Agent': 'Your User Agent String',\n",
    "    }\n",
    "    r=requests.get(url,headers=headers)\n",
    "    soup=BeautifulSoup(r.text,'html.parser')\n",
    "    paragraphs=soup.find_all('p')\n",
    "    text= [paragraph.text for paragraph in paragraphs]\n",
    "    words=' '.join(text).split(' ')\n",
    "    article = ' '.join(words)\n",
    "    return paragraphs"
   ]
  },
  {
   "cell_type": "code",
   "execution_count": 258,
   "metadata": {},
   "outputs": [
    {
     "data": {
      "text/plain": [
       "[<p><a href=\"/education/report-meet-man-who-once-worked-at-construction-sites-had-no-money-for-food-then-took-oath-to-clear-mppsc-exam-now-3093613\">Meet man who once worked at construction sites, had no money for food, then took oath to clear MPPSC exam, now..</a></p>,\n",
       " <p><a href=\"/india/report-elon-musk-vs-ex-union-minister-rajeev-chandrasekhar-as-evm-debate-heats-up-rahul-gandhi-jumps-in-as-well-3093617\">Elon Musk vs ex-Union Minister Rajeev Chandrasekhar as EVM debate heats up, Rahul Gandhi jumps in as well</a></p>,\n",
       " <p><a href=\"/bollywood/report-anushka-sharma-wishes-happy-father-s-day-to-virat-kohli-on-vamika-akaay-behalf-3093615\">Anushka Sharma wishes Happy Father's Day to Virat Kohli on Vamika, Akaay's behalf: 'How can one person be...'</a></p>,\n",
       " <p><a href=\"/health/report-rare-flesh-eating-bacteria-that-can-kill-in-48-hours-spreads-in-japan-all-you-need-to-know-3093614\">Rare flesh-eating bacteria that can kill in 48 hours spreads in Japan: All you need to know</a></p>,\n",
       " <p><a href=\"/world/report-i-will-have-more-to-say-justin-trudeau-on-whether-canada-will-invite-pm-modi-to-g7-summit-2025-3093606\">'I will have more to say...': Justin Trudeau on whether Canada will invite PM Modi to G7 Summit 2025</a></p>,\n",
       " <p>Business</p>,\n",
       " <p class=\"article-short-desc\">Mukesh Ambani-led Jio Platforms need more approvals, including from the Department of Telecommunication, to begin operations of the new service.</p>,\n",
       " <p class=\"dna-home\" id=\"dna-home\"><a href=\"https://www.dnaindia.com/authors/prashant-tamta/2138051\">Prashant Tamta</a></p>,\n",
       " <p class=\"dna-update\">Updated : <!-- -->Jun 13, 2024, 07:55 PM IST<!-- --> </p>,\n",
       " <p>Reliance Industries chairman Mukesh Ambani continues to expand his business. The 67-year-old has partnered with several international companies to launch services in different sectors. Ambani's Reliance is one of the largest companies in India with a market cap of around Rs 2000000 crore. Now, its subsidiary Jio Platforms, headed by his son Anant Ambani, has got approval from India's space regulator to launch satellite internet in the country, Reuters reported. Several global companies are in a race to connect rural areas of the world via satellite-based internet. </p>,\n",
       " <p>A joint venture (JV) of Jio Platforms and Luxembourg's SES, Orbit Connect India, got the approval. It aims to provide high-speed internet via satellite. According to a government official, the Indian National Space Promotion and Authorisation Centre (IN-SPACe) gave three approvals to Orbit Connect in April and June, allowing it to position satellites above India. However, more approvals, including from the Department of Telecommunication, are needed to begin operations.</p>,\n",
       " <p>Apart from Reliance, Amazon.com's Kuiper and Elon Musk's Starlink are waiting for approval to launch satellite communication services in India. Another company, Inmarsat, has also gotten approval to operate satellites over India, IN-SPACe chairman Pawan Goenka told Reuters. According to Deloitte, India's satellite broadband service market is expected to grow 36 per cent over the next five years. It may reach USD 1.9 billion by 2030.</p>,\n",
       " <p><strong><a href=\"https://www.dnaindia.com/business/report-meet-man-rahul-rai-who-decided-to-drop-out-of-iit-then-earned-rs-286-crore-in-just-5-months-by-3093344\" target=\"_blank\">READ | Meet man who decided to drop out of IIT, then earned Rs 286 crore in just 5 months by...</a></strong></p>,\n",
       " <p>Lok Sabha Elections 2024: Anupamaa' Star Rupali Ganguly Joins BJP, Says 'Big Fan' Of PM Modi</p>,\n",
       " <p>Salman Khan House Firing Case: Accused Anuj Thapan Dies By Suicide In Mumbai Police Custody</p>,\n",
       " <p>Lok Sabha Elections 2024: Congress' Rahul Gandhi-Amethi Suspense Making BJP Nervous? | Uttar Pradesh</p>,\n",
       " <p>Delhi Bomb Threat: Who Is Behind The Hoax Bomb Threat That Shut Down Hundred Schools In Delhi?</p>]"
      ]
     },
     "execution_count": 258,
     "metadata": {},
     "output_type": "execute_result"
    }
   ],
   "source": [
    "scraping_article(\"https://www.dnaindia.com/business/report-mukesh-ambani-beats-elon-musk-jeff-bezos-gets-approval-to-launch-satellite-internet-in-india-via-jio-3093364\")"
   ]
  },
  {
   "cell_type": "code",
   "execution_count": null,
   "metadata": {},
   "outputs": [],
   "source": []
  }
 ],
 "metadata": {
  "kernelspec": {
   "display_name": "Python 3",
   "language": "python",
   "name": "python3"
  },
  "language_info": {
   "codemirror_mode": {
    "name": "ipython",
    "version": 3
   },
   "file_extension": ".py",
   "mimetype": "text/x-python",
   "name": "python",
   "nbconvert_exporter": "python",
   "pygments_lexer": "ipython3",
   "version": "3.11.3"
  }
 },
 "nbformat": 4,
 "nbformat_minor": 2
}
