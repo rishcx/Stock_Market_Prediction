{
 "cells": [
  {
   "cell_type": "code",
   "execution_count": null,
   "metadata": {},
   "outputs": [],
   "source": []
  },
  {
   "cell_type": "code",
   "execution_count": null,
   "metadata": {},
   "outputs": [],
   "source": []
  },
  {
   "cell_type": "code",
   "execution_count": null,
   "metadata": {},
   "outputs": [],
   "source": []
  },
  {
   "cell_type": "code",
   "execution_count": 1,
   "metadata": {},
   "outputs": [],
   "source": [
    "from langchain.text_splitter import RecursiveCharacterTextSplitter"
   ]
  },
  {
   "cell_type": "code",
   "execution_count": null,
   "metadata": {},
   "outputs": [],
   "source": []
  },
  {
   "cell_type": "code",
   "execution_count": 2,
   "metadata": {},
   "outputs": [],
   "source": [
    "def to_chunks(data):\n",
    "    text_splitter=RecursiveCharacterTextSplitter(\n",
    "        chunk_size=3000,\n",
    "        chunk_overlap=50\n",
    "    )\n",
    "    docs=text_splitter.split_text(data)\n",
    "    return docs"
   ]
  },
  {
   "cell_type": "code",
   "execution_count": 3,
   "metadata": {},
   "outputs": [],
   "source": [
    "from transformers import AutoTokenizer, AutoModelForSeq2SeqLM\n"
   ]
  },
  {
   "cell_type": "code",
   "execution_count": 4,
   "metadata": {},
   "outputs": [],
   "source": [
    "def load_distilbert_model(model_name=\"sshleifer/distilbart-cnn-12-6\"):\n",
    "    tokenizer = AutoTokenizer.from_pretrained(model_name)\n",
    "    model = AutoModelForSeq2SeqLM.from_pretrained(model_name)\n",
    "    return tokenizer, model"
   ]
  },
  {
   "cell_type": "code",
   "execution_count": 5,
   "metadata": {},
   "outputs": [],
   "source": [
    "def summarize_text(tokenizer, model, text, max_chunk_length, summary_max_length):\n",
    "    inputs = tokenizer(text, return_tensors=\"pt\", max_length=max_chunk_length, truncation=True)\n",
    "    summary_ids = model.generate(inputs[\"input_ids\"], max_length=summary_max_length, min_length=200, length_penalty=2.0, num_beams=4, early_stopping=True)\n",
    "    summary = tokenizer.decode(summary_ids[0], skip_special_tokens=True)\n",
    "    return summary\n"
   ]
  },
  {
   "cell_type": "code",
   "execution_count": 6,
   "metadata": {},
   "outputs": [],
   "source": [
    "def summarize_article(article, model_name=\"sshleifer/distilbart-cnn-12-6\"):\n",
    "    data = article\n",
    "    chunks = to_chunks(data)\n",
    "    tokenizer, model = load_distilbert_model(model_name)\n",
    "    summaries = []\n",
    "    for chunk in chunks:\n",
    "        chunk_text = chunk\n",
    "        summary = summarize_text(tokenizer, model, chunk_text,3000,800)\n",
    "        summaries.append(summary)\n",
    "    concatenated_summaries = \" \".join(summaries)\n",
    "    #  Second summarization pass: Summarize the concatenated summaries\n",
    "    intermediate_chunks = [concatenated_summaries[i:i+3000] for i in range(0, len(concatenated_summaries), 3000)]\n",
    "    final_summaries = []\n",
    "    for intermediate_chunk in intermediate_chunks:\n",
    "        final_summary = summarize_text(tokenizer, model, intermediate_chunk,3000,800)\n",
    "        final_summaries.append(final_summary)\n",
    "    \n",
    "    final_summary_text = \" \".join(final_summaries)\n",
    "    \n",
    "    return final_summary_text"
   ]
  },
  {
   "cell_type": "code",
   "execution_count": null,
   "metadata": {},
   "outputs": [],
   "source": []
  },
  {
   "cell_type": "code",
   "execution_count": 7,
   "metadata": {},
   "outputs": [],
   "source": [
    "import requests\n",
    "from bs4 import BeautifulSoup\n"
   ]
  },
  {
   "cell_type": "code",
   "execution_count": 33,
   "metadata": {},
   "outputs": [],
   "source": [
    "url = \"https://www.hindustantimes.com/business/elon-musk-s-x-wants-laid-off-employees-to-give-money-back-they-were-overpaid-101718355497670.html\"\n",
    "headers = {\n",
    "    'User-Agent': 'Your User Agent String',\n",
    "}\n",
    "r = requests.get(url, headers=headers)\n",
    "\n",
    "soup=BeautifulSoup(r.text,'html.parser')\n",
    "paragraphs=soup.find_all('p')"
   ]
  },
  {
   "cell_type": "code",
   "execution_count": 34,
   "metadata": {},
   "outputs": [
    {
     "data": {
      "text/plain": [
       "[<p>Subscribe Now! Get features like</p>,\n",
       " <p>Elon Musk's company X (formerly Twitter) is asking at least six former Australian employees to repay the money which they have been accidentally given. The company is threatening legal action to recover these overpayments, Sydney Morning Herald reported. The issue come after an error in currency conversion from US dollars to Australian dollars. Emails from the company's Asia Pacific HR department show that overpayments occurred in January 2023, ranging from $1,500 to $70,000 per employee.</p>,\n",
       " <p>As per the report, these payments were part of a 'deferred cash compensation' tied to employee shares which were originally valued at $54.20 USD each which is the price Elon Musk paid when he acquired Twitter in 2022. None of the former employees have returned the money, the report claimed. The overpayments happened because Elon Musk's company used an incorrect conversion rate which was 2.5 times the actual value.</p>,\n",
       " <p>As per Australian law, overpayment mistakes need to be repaid although the employees can request detailed explanations and evidence of the error from the company. This comes as many former US-based employees of the company are still fighting to receive severance payments. </p>,\n",
       " <p>Four former Twitter executives, including ex-CEO Parag Agrawal and former CFO Ned Segal, have also sued X for over $128 million in unpaid severance. They were fired after Elon Musk's acquisition of Twitter.</p>,\n",
       " <p>Elevate your career with VIT’s MBA programme that has been designed by its acclaimed faculty &amp; stands out as a beacon for working professionals. <a href=\"https://www.hindustantimes.com/education/admissions/unlock-success-with-vellore-institute-of-technologys-affordable-mba-programme-101714976142782.html?utm_source=ht-internal&amp;utm_medium=end-of-article&amp;utm_campaign=emeritus\">Explore now!</a></p>,\n",
       " <p id=\"hidden-paragraph\" onclick=\"getEvent();\"> Get latest updates on<a href=\"https://www.hindustantimes.com/fuel-prices/petrol\"> Petrol Price</a> along with <a href=\"https://www.hindustantimes.com/gold-prices\">Gold Rate </a>, <a href=\"https://www.hindustantimes.com/weather\"> Today Weather</a> and <a href=\"https://www.hindustantimes.com/budget\">Budget 2024</a> at Hindustan Times. </p>,\n",
       " <p class=\"price\"></p>,\n",
       " <p class=\"date\"></p>]"
      ]
     },
     "execution_count": 34,
     "metadata": {},
     "output_type": "execute_result"
    }
   ],
   "source": [
    "paragraphs"
   ]
  },
  {
   "cell_type": "code",
   "execution_count": 10,
   "metadata": {},
   "outputs": [
    {
     "data": {
      "text/plain": [
       "'The social media platform, formerly known as Twitter, acknowledged its error in currency conversion from the US to Australian dollars on the payments and asked its former employees to repay amounts of up to $70,000 in some cases, the report said on Wednesday.\\xa0'"
      ]
     },
     "execution_count": 10,
     "metadata": {},
     "output_type": "execute_result"
    }
   ],
   "source": [
    "paragraphs[2].text"
   ]
  },
  {
   "cell_type": "code",
   "execution_count": 22,
   "metadata": {},
   "outputs": [],
   "source": [
    "text= [paragraph.text for paragraph in paragraphs]\n",
    "words=' '.join(text).split(' ')\n",
    "article = ' '.join(words)"
   ]
  },
  {
   "cell_type": "code",
   "execution_count": 23,
   "metadata": {},
   "outputs": [
    {
     "name": "stdout",
     "output_type": "stream",
     "text": [
      "File photo Billionaire Elon Musk's X has asked its sacked employees in Australia to return the money it claims was accidentally overpaid to them, the Sydney Morning Herald reported. The social media platform, formerly known as Twitter, acknowledged its error in currency conversion from the US to Australian dollars on the payments and asked its former employees to repay amounts of up to $70,000 in some cases, the report said on Wednesday.  The currency conversion errors made by X when employees were paid their entitlements after they were fired had reportedly led to overpayments of between $1,500 and $70,000. According to the report, at least six former X staff have received legal notices.  \"It has come to our attention that you received a significant overpayment in error in January 2023,\" the Sydney Morning Herald quoted X's Asia Pacific human resources department as saying, citing an email to several former employees this year. \"We would be grateful if you could arrange the repayment to us at your earliest convenience,\" it added. Elon Musk-led company also said that the overpayment was related to \"deferred cash compensation\" in the form of employee shares issued to the staff when they joined Twitter. PromotedListen to the latest songs, only on JioSaavn.com X has been accused in multiple suits of numerous labor and workplace violations, including failing to pay severance to thousands of workers fired after Musk's $44 billion acquisition in 2022. Earlier last year, thousands of former Twitter employees said they were cheated of severance pay when the billionaire laid them off after acquiring the social media platform. Track Latest News Live on NDTV.com and get news updates from India  and around the world.  Watch Live News: Follow Us: ................................ Advertisement ................................\n"
     ]
    }
   ],
   "source": [
    "print(article)"
   ]
  },
  {
   "cell_type": "code",
   "execution_count": 24,
   "metadata": {},
   "outputs": [],
   "source": [
    "summary = summarize_article(article)\n"
   ]
  },
  {
   "cell_type": "code",
   "execution_count": 14,
   "metadata": {},
   "outputs": [
    {
     "name": "stdout",
     "output_type": "stream",
     "text": [
      " The social media platform, formerly known as Twitter, acknowledged its error in currency conversion from the US to Australian dollars on the payments. X has been accused in multiple suits of numerous labor and workplace violations. Thousands of former Twitter employees said they were cheated of severance pay when the billionaire laid them off after acquiring the social media site. X also said that the overpayment was related to \"deferred cash compensation\" in the form of employee shares issued to the staff when they joined Twitter. At least six former X staff have received legal notices, according to the Sydney Morning Herald report, the report said. The billionaire's $44 billion acquisition of Twitter in 2022 is due to take place in 2022. Back to Mail Online home to go to the page you came from: http://www.dailymailonline.com/news/sundestribune/dailymail/dailydailymail/. Back to the original version of this article. Back to The Newsquiz.com: Please contact us on\n"
     ]
    }
   ],
   "source": [
    "print(summary)"
   ]
  },
  {
   "cell_type": "code",
   "execution_count": 52,
   "metadata": {},
   "outputs": [],
   "source": [
    "import os\n",
    "from dotenv import load_dotenv"
   ]
  },
  {
   "cell_type": "code",
   "execution_count": 56,
   "metadata": {},
   "outputs": [],
   "source": [
    "load_dotenv()\n",
    "api_key_news=os.getenv('NEWSAPI_ORG')\n"
   ]
  },
  {
   "cell_type": "code",
   "execution_count": 59,
   "metadata": {},
   "outputs": [],
   "source": [
    "# import requests\n",
    "\n",
    "# # Replace with your API key\n",
    "# api_key = api_key_news\n",
    "# base_url = 'https://newsapi.org/v2/everything'\n",
    "\n",
    "# # Example query parameters\n",
    "# params = {\n",
    "#     'q': 'apple',  # Example keyword (replace with your specific keyword)\n",
    "#     'domains': 'techcrunch.com,theverge.com',  # Domains related to technology\n",
    "#     'sortBy': 'publishedAt',  # Sort by published date\n",
    "#     'pageSize': 5,  # Number of results per page (max 100)\n",
    "#     'apiKey': api_key\n",
    "# }\n",
    "\n",
    "# response = requests.get(base_url, params=params)\n",
    "\n",
    "# if response.status_code == 200:\n",
    "#     data = response.json()\n",
    "#     articles = data['articles']\n",
    "#     if articles:\n",
    "#         for idx, article in enumerate(articles):\n",
    "#             print(f\"News {idx + 1}: {article['title']}\")\n",
    "#             print(f\"URL: {article['url']}\")\n",
    "#             print()  # Add a blank line for readability\n",
    "#     else:\n",
    "#         print(\"No articles found.\")\n",
    "# else:\n",
    "#     print(\"Error fetching data:\", response.status_code)\n"
   ]
  },
  {
   "cell_type": "code",
   "execution_count": null,
   "metadata": {},
   "outputs": [],
   "source": []
  },
  {
   "cell_type": "code",
   "execution_count": null,
   "metadata": {},
   "outputs": [],
   "source": []
  },
  {
   "cell_type": "code",
   "execution_count": null,
   "metadata": {},
   "outputs": [],
   "source": []
  }
 ],
 "metadata": {
  "kernelspec": {
   "display_name": "Python 3",
   "language": "python",
   "name": "python3"
  },
  "language_info": {
   "codemirror_mode": {
    "name": "ipython",
    "version": 3
   },
   "file_extension": ".py",
   "mimetype": "text/x-python",
   "name": "python",
   "nbconvert_exporter": "python",
   "pygments_lexer": "ipython3",
   "version": "3.11.3"
  }
 },
 "nbformat": 4,
 "nbformat_minor": 2
}
