{
 "cells": [
  {
   "cell_type": "code",
   "execution_count": 10,
   "metadata": {},
   "outputs": [],
   "source": [
    "import nltk"
   ]
  },
  {
   "cell_type": "code",
   "execution_count": 11,
   "metadata": {},
   "outputs": [],
   "source": [
    "news_texts=\"Former Union minister Rajeev Chandrasekhar has pushed back against Elon Musk's comments on electronic voting machines (EVMs) Musk had suggested they should be eliminated due to the potential risk of being hacked by humans or AI, even if the risk is minimal. ChandraseKhar countered Musk’s view, stating it might apply to the US and other regions where standard computing platforms are used to build Internet-connected voting machines He asserted that this is not the case in India, where EVMs are custom-designed, secure, and isolated from any network or media. The entrepreneur-turned-politician also offered to give a tutorial to the SpaceX boss demonstrating the robustness of EVMs designed in India. During the recently concluded marathon Lok Sabha election, the Opposition had alleged that there was a possibility of the ruling BJP tampering with EVM to turn poll outcomes in their favour. In response, Chief Election Commissioner RajeeV Kumar assured that EVM are 100 safe\""
   ]
  },
  {
   "cell_type": "code",
   "execution_count": 7,
   "metadata": {},
   "outputs": [
    {
     "data": {
      "text/plain": [
       "['The',\n",
       " 'Puerto',\n",
       " 'Rican',\n",
       " 'elections',\n",
       " 'commission',\n",
       " 'announced',\n",
       " 'earlier',\n",
       " 'this',\n",
       " 'Tuesday',\n",
       " 'that']"
      ]
     },
     "execution_count": 7,
     "metadata": {},
     "output_type": "execute_result"
    }
   ],
   "source": [
    "tokens=nltk.word_tokenize(news_texts)\n",
    "tokens[:10]"
   ]
  },
  {
   "cell_type": "code",
   "execution_count": 9,
   "metadata": {},
   "outputs": [
    {
     "data": {
      "text/plain": [
       "[('The', 'DT'),\n",
       " ('Puerto', 'NNP'),\n",
       " ('Rican', 'NNP'),\n",
       " ('elections', 'NNS'),\n",
       " ('commission', 'NN'),\n",
       " ('announced', 'VBD'),\n",
       " ('earlier', 'RBR'),\n",
       " ('this', 'DT'),\n",
       " ('Tuesday', 'NNP'),\n",
       " ('that', 'IN')]"
      ]
     },
     "execution_count": 9,
     "metadata": {},
     "output_type": "execute_result"
    }
   ],
   "source": [
    "tagged=nltk.pos_tag(tokens)\n",
    "tagged[:10]"
   ]
  },
  {
   "cell_type": "code",
   "execution_count": 15,
   "metadata": {},
   "outputs": [
    {
     "name": "stderr",
     "output_type": "stream",
     "text": [
      "[nltk_data] Downloading package maxent_ne_chunker to\n",
      "[nltk_data]     C:\\Users\\utkar\\AppData\\Roaming\\nltk_data...\n",
      "[nltk_data]   Unzipping chunkers\\maxent_ne_chunker.zip.\n",
      "[nltk_data] Downloading package words to\n",
      "[nltk_data]     C:\\Users\\utkar\\AppData\\Roaming\\nltk_data...\n",
      "[nltk_data]   Unzipping corpora\\words.zip.\n"
     ]
    },
    {
     "data": {
      "text/plain": [
       "True"
      ]
     },
     "execution_count": 15,
     "metadata": {},
     "output_type": "execute_result"
    }
   ],
   "source": [
    "nltk.download('maxent_ne_chunker')\n",
    "nltk.download('words')"
   ]
  },
  {
   "cell_type": "code",
   "execution_count": 16,
   "metadata": {},
   "outputs": [
    {
     "name": "stdout",
     "output_type": "stream",
     "text": [
      "(S\n",
      "  The/DT\n",
      "  (GPE Puerto/NNP Rican/NNP)\n",
      "  elections/NNS\n",
      "  commission/NN\n",
      "  announced/VBD\n",
      "  earlier/RBR\n",
      "  this/DT\n",
      "  Tuesday/NNP\n",
      "  that/IN\n",
      "  it/PRP\n",
      "  is/VBZ\n",
      "  reevaluating/VBG\n",
      "  its/PRP$\n",
      "  contract/NN\n",
      "  with/IN\n",
      "  a/DT\n",
      "  (GSP US/NNP)\n",
      "  electronic/JJ\n",
      "  voting/NN\n",
      "  company/NN\n",
      "  ./.\n",
      "  The/DT\n",
      "  problem/NN\n",
      "  stemmed/VBD\n",
      "  from/IN\n",
      "  a/DT\n",
      "  software/NN\n",
      "  issue/NN\n",
      "  that/WDT\n",
      "  caused/VBD\n",
      "  machines/NNS\n",
      "  supplied/VBN\n",
      "  by/IN\n",
      "  (PERSON Dominion/NNP Voting/NNP)\n",
      "  Systems/NNPS\n",
      "  to/TO\n",
      "  incorrectly/RB\n",
      "  calculate/VB\n",
      "  vote/NN\n",
      "  totals/NNS\n",
      "  ,/,\n",
      "  the/DT\n",
      "  (GPE Puerto/NNP Rican/NNP)\n",
      "  poll/NN\n",
      "  body/NN\n",
      "  ’/NNP\n",
      "  s/JJ\n",
      "  interim/JJ\n",
      "  president/NN\n",
      "  ,/,\n",
      "  (PERSON Jessika/NNP Padilla/NNP Rivera/NNP)\n",
      "  ,/,\n",
      "  said/VBD\n",
      "  ./.\n",
      "  More/JJR\n",
      "  than/IN\n",
      "  6,000/CD\n",
      "  Dominion/NNP\n",
      "  machines/NNS\n",
      "  were/VBD\n",
      "  deployed/VBN\n",
      "  for/IN\n",
      "  (PERSON Puerto/NNP Rico/NNP)\n",
      "  's/POS\n",
      "  primaries/NNS\n",
      "  ,/,\n",
      "  where/WRB\n",
      "  errors/NNS\n",
      "  affected/VBD\n",
      "  races/NNS\n",
      "  including/VBG\n",
      "  those/DT\n",
      "  for/IN\n",
      "  governor/NN\n",
      "  and/CC\n",
      "  mayor/NN\n",
      "  ./.\n",
      "  Some/DT\n",
      "  machines/NNS\n",
      "  even/RB\n",
      "  reversed/VBD\n",
      "  totals/NNS\n",
      "  or/CC\n",
      "  registered/VBN\n",
      "  zero/CD\n",
      "  votes/NNS\n",
      "  for/IN\n",
      "  certain/JJ\n",
      "  candidates/NNS\n",
      "  ,/,\n",
      "  according/VBG\n",
      "  to/TO\n",
      "  the/DT\n",
      "  (GPE Puerto/NNP Rico/NNP)\n",
      "  elections/NNS\n",
      "  commission/NN\n",
      "  's/POS\n",
      "  interim/JJ\n",
      "  president/NN\n",
      "  ./.\n",
      "  In/IN\n",
      "  response/NN\n",
      "  to/TO\n",
      "  the/DT\n",
      "  widespread/JJ\n",
      "  irregularities/NNS\n",
      "  ,/,\n",
      "  the/DT\n",
      "  elections/NNS\n",
      "  commission/NN\n",
      "  is/VBZ\n",
      "  conducting/VBG\n",
      "  a/DT\n",
      "  thorough/JJ\n",
      "  review/NN\n",
      "  of/IN\n",
      "  itscontract/NN\n",
      "  with/IN\n",
      "  (PERSON Dominion/NNP Voting/NNP)\n",
      "  systems/NNS\n",
      "  ./.\n",
      "  The/DT\n",
      "  company/NN\n",
      "  has/VBZ\n",
      "  not/RB\n",
      "  responded/VBN\n",
      "  to/TO\n",
      "  a/DT\n",
      "  request/NN\n",
      "  for/IN\n",
      "  comment/NN\n",
      "  from/IN\n",
      "  (ORGANIZATION MailOnline/NNP)\n",
      "  ./.\n",
      "  (PERSON Elon/NNP Musk/NNP)\n",
      "  has/VBZ\n",
      "  called/VBN\n",
      "  for/IN\n",
      "  eliminating/VBG\n",
      "  electronic/JJ\n",
      "  voting/NN\n",
      "  machines/NNS\n",
      "  (/(\n",
      "  (ORGANIZATION EVMs/NNP)\n",
      "  )/)\n",
      "  citing/VBG\n",
      "  that/IN\n",
      "  these/DT\n",
      "  machines/NNS\n",
      "  could/MD\n",
      "  be/VB\n",
      "  hacked/VBN\n",
      "  by/IN\n",
      "  humans/NNS\n",
      "  or/CC\n",
      "  artificial/JJ\n",
      "  intelligence/NN\n",
      "  ./.\n",
      "  He/PRP\n",
      "  echoed/VBD\n",
      "  the/DT\n",
      "  stance/NN\n",
      "  of/IN\n",
      "  (PERSON Robert/NNP F/NNP Kennedy/NNP Jr/NNP)\n",
      "  ,/,\n",
      "  an/DT\n",
      "  independent/JJ\n",
      "  candidate/NN\n",
      "  in/IN\n",
      "  the/DT\n",
      "  (ORGANIZATION US/NNP)\n",
      "  presidential/JJ\n",
      "  race/NN\n",
      "  ,/,\n",
      "  who/WP\n",
      "  called/VBD\n",
      "  for/IN\n",
      "  a/DT\n",
      "  return/NN\n",
      "  to/TO\n",
      "  paper/NN\n",
      "  ballots/NNS\n",
      "  ./.)\n"
     ]
    }
   ],
   "source": [
    "entities=nltk.chunk.ne_chunk(tagged)\n",
    "print(entities)"
   ]
  },
  {
   "cell_type": "code",
   "execution_count": 12,
   "metadata": {},
   "outputs": [],
   "source": [
    "from nltk.sentiment import SentimentIntensityAnalyzer\n",
    "from tqdm.notebook import tqdm"
   ]
  },
  {
   "cell_type": "code",
   "execution_count": 13,
   "metadata": {},
   "outputs": [],
   "source": [
    "sia=SentimentIntensityAnalyzer()"
   ]
  },
  {
   "cell_type": "code",
   "execution_count": 14,
   "metadata": {},
   "outputs": [
    {
     "data": {
      "text/plain": [
       "{'neg': 0.056, 'neu': 0.878, 'pos': 0.066, 'compound': 0.3612}"
      ]
     },
     "execution_count": 14,
     "metadata": {},
     "output_type": "execute_result"
    }
   ],
   "source": [
    "sia.polarity_scores(news_texts)"
   ]
  },
  {
   "cell_type": "code",
   "execution_count": 5,
   "metadata": {},
   "outputs": [],
   "source": [
    "from transformers import AutoTokenizer\n",
    "from transformers import AutoModelForSequenceClassification\n",
    "from scipy.special import softmax"
   ]
  },
  {
   "cell_type": "code",
   "execution_count": 6,
   "metadata": {},
   "outputs": [
    {
     "name": "stderr",
     "output_type": "stream",
     "text": [
      "c:\\Users\\utkar\\Desktop\\DG_liger\\Project\\venv\\Lib\\site-packages\\huggingface_hub\\file_download.py:1132: FutureWarning: `resume_download` is deprecated and will be removed in version 1.0.0. Downloads always resume when possible. If you want to force a new download, use `force_download=True`.\n",
      "  warnings.warn(\n"
     ]
    }
   ],
   "source": [
    "model_name=\"cardiffnlp/twitter-roberta-base-sentiment\"\n",
    "tokenizer=AutoTokenizer.from_pretrained(model_name)\n",
    "model=AutoModelForSequenceClassification.from_pretrained(model_name)"
   ]
  },
  {
   "cell_type": "code",
   "execution_count": 7,
   "metadata": {},
   "outputs": [
    {
     "name": "stdout",
     "output_type": "stream",
     "text": [
      "[0.67102474 0.30940437 0.01957085]\n"
     ]
    }
   ],
   "source": [
    "encoded=tokenizer(news_texts,return_tensors='pt')\n",
    "output=model(**encoded)\n",
    "scores=output[0][0].detach().numpy()\n",
    "scores=softmax(scores)\n",
    "print(scores)\n"
   ]
  },
  {
   "cell_type": "code",
   "execution_count": 9,
   "metadata": {},
   "outputs": [
    {
     "data": {
      "text/plain": [
       "0.30940437"
      ]
     },
     "execution_count": 9,
     "metadata": {},
     "output_type": "execute_result"
    }
   ],
   "source": [
    "scores[1]"
   ]
  },
  {
   "cell_type": "code",
   "execution_count": 37,
   "metadata": {},
   "outputs": [],
   "source": [
    "weights = {\n",
    "    'neg': -1,\n",
    "    'neu': 0,\n",
    "    'pos': 1\n",
    "}"
   ]
  },
  {
   "cell_type": "code",
   "execution_count": 50,
   "metadata": {},
   "outputs": [],
   "source": [
    "probabilities = {\n",
    "    'neg': 0.102,\n",
    "    'neu': 0.824,\n",
    "    'pos': 0.074\n",
    "}"
   ]
  },
  {
   "cell_type": "code",
   "execution_count": 51,
   "metadata": {},
   "outputs": [
    {
     "name": "stdout",
     "output_type": "stream",
     "text": [
      "Compound score: -0.027999999999999997\n"
     ]
    }
   ],
   "source": [
    "compound_score = sum(probabilities[label] * weights[label] for label in probabilities)\n",
    "print(f\"Compound score: {compound_score}\")"
   ]
  },
  {
   "cell_type": "code",
   "execution_count": null,
   "metadata": {},
   "outputs": [],
   "source": []
  },
  {
   "cell_type": "code",
   "execution_count": null,
   "metadata": {},
   "outputs": [],
   "source": []
  }
 ],
 "metadata": {
  "kernelspec": {
   "display_name": "Python 3",
   "language": "python",
   "name": "python3"
  },
  "language_info": {
   "codemirror_mode": {
    "name": "ipython",
    "version": 3
   },
   "file_extension": ".py",
   "mimetype": "text/x-python",
   "name": "python",
   "nbconvert_exporter": "python",
   "pygments_lexer": "ipython3",
   "version": "3.11.3"
  }
 },
 "nbformat": 4,
 "nbformat_minor": 2
}
